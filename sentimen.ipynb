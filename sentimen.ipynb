{
 "cells": [
  {
   "cell_type": "code",
   "execution_count": 14,
   "metadata": {},
   "outputs": [],
   "source": [
    "import tweepy, re\n",
    "from textblob import TextBlob"
   ]
  },
  {
   "cell_type": "code",
   "execution_count": 15,
   "metadata": {},
   "outputs": [],
   "source": [
    "api_key = \"DuBxb4IdeMxBjnDIg3WNDtK9I\"\n",
    "api_secret_key = \"ZllDt7NyYRwbHqSiWCkbYaIC5z5UlwhioWITimWmbv4lXV0wvv\"\n",
    "access_token = \"1243487155441348609-PXRxGhuYrbQwEL4jdgeS4HkxdkR43r\"\n",
    "access_token_secret = \"y4w2K3gf1cdBLGzb6VEeLoj8SAUfz693KqpA2wqSv3HTx\"\n",
    "bearer_token = \"AAAAAAAAAAAAAAAAAAAAANN6KAEAAAAAAXJXLWrS8G1rmsfC9PIC%2FQ9laWQ%3DqEu2gYqOsQPrwSRM2HdM9MpEGDg1WB1ZlnficfQHt4fXjeVRJX\""
   ]
  },
  {
   "cell_type": "code",
   "execution_count": 16,
   "metadata": {},
   "outputs": [],
   "source": [
    "auth = tweepy.OAuthHandler(api_key, api_secret_key)\n",
    "auth.set_access_token(access_token, access_token_secret)\n",
    "api = tweepy.API(auth)"
   ]
  },
  {
   "cell_type": "code",
   "execution_count": 17,
   "metadata": {},
   "outputs": [],
   "source": [
    "tweetSearch = api.search(q=\"anjay\", lang=\"id\", count=100)"
   ]
  },
  {
   "cell_type": "code",
   "execution_count": 18,
   "metadata": {},
   "outputs": [
    {
     "name": "stdout",
     "output_type": "stream",
     "text": [
      "Translation API returned the input string unchanged.\n",
      "Translation API returned the input string unchanged.\n",
      "Translation API returned the input string unchanged.\n",
      "Translation API returned the input string unchanged.\n",
      "Translation API returned the input string unchanged.\n",
      "Translation API returned the input string unchanged.\n",
      "Translation API returned the input string unchanged.\n",
      "Translation API returned the input string unchanged.\n",
      "Translation API returned the input string unchanged.\n",
      "Translation API returned the input string unchanged.\n",
      "Translation API returned the input string unchanged.\n",
      "Translation API returned the input string unchanged.\n",
      "Translation API returned the input string unchanged.\n",
      "Translation API returned the input string unchanged.\n",
      "Translation API returned the input string unchanged.\n",
      "Translation API returned the input string unchanged.\n"
     ]
    }
   ],
   "source": [
    "hasilAnalisis = []\n",
    "\n",
    "for tweet in tweetSearch:\n",
    "    tweet_properties = {}\n",
    "    tweet_properties[\"pengguna\"] = tweet.user.screen_name\n",
    "    tweet_properties[\"tanggal_tweet\"] = tweet.created_at\n",
    "    tweet_properties[\"isi_tweet\"] = tweet.text\n",
    "    tweet_bersih = ' '.join(re.sub(\"(@[A-Za-z0-9]+)|([^0-9A-Za-z \\t])|(\\w+:\\/\\/\\S+)\",\" \",tweet.text).split())\n",
    "    \n",
    "    analisis = TextBlob(tweet_bersih)\n",
    "    try:\n",
    "        analisis = analisis.translate(to=\"en\")\n",
    "    except Exception as e:\n",
    "        print(e)\n",
    "    \n",
    "    if analisis.sentiment.polarity > 0.0:\n",
    "        tweet_properties[\"sentimen\"]= \"Positif\"\n",
    "    elif analisis.sentiment.polarity == 0.0:\n",
    "        tweet_properties[\"sentimen\"]= \"Netral\"\n",
    "    else:\n",
    "        tweet_properties[\"sentimen\"]= \"Negatif\"\n",
    "        \n",
    "    if tweet.retweet_count > 0:\n",
    "        if tweet_properties not in hasilAnalisis:\n",
    "            hasilAnalisis.append(tweet_properties)\n",
    "    else:\n",
    "        hasilAnalisis.append(tweet_properties)"
   ]
  },
  {
   "cell_type": "code",
   "execution_count": 19,
   "metadata": {},
   "outputs": [],
   "source": [
    "tweet_positif = [t for t in hasilAnalisis if t[\"sentimen\"]==\"Positif\"]\n",
    "tweet_netral = [t for t in hasilAnalisis if t[\"sentimen\"]==\"Netral\"]\n",
    "tweet_negatif = [t for t in hasilAnalisis if t[\"sentimen\"]==\"Negatif\"]"
   ]
  },
  {
   "cell_type": "code",
   "execution_count": 20,
   "metadata": {},
   "outputs": [
    {
     "name": "stdout",
     "output_type": "stream",
     "text": [
      "Hasil Sentimen\n",
      "Positif:  23 (23.0%)\n",
      "Netral:  60 (60.0%)\n",
      "Negatif:  17 (17.0%)\n"
     ]
    }
   ],
   "source": [
    "print(\"Hasil Sentimen\")\n",
    "print(\"Positif: \", len(tweet_positif), \"({}%)\".format(100*len(tweet_positif)/len(hasilAnalisis)))\n",
    "print(\"Netral: \", len(tweet_netral), \"({}%)\".format(100*len(tweet_netral)/len(hasilAnalisis)))\n",
    "print(\"Negatif: \", len(tweet_negatif), \"({}%)\".format(100*len(tweet_negatif)/len(hasilAnalisis)))"
   ]
  },
  {
   "cell_type": "code",
   "execution_count": 21,
   "metadata": {},
   "outputs": [
    {
     "data": {
      "text/plain": [
       "[{'pengguna': 'fiqfann',\n",
       "  'tanggal_tweet': datetime.datetime(2020, 11, 30, 14, 49, 48),\n",
       "  'isi_tweet': '@mustaqimmm_ anjay sumpahla orang lain baca aku takut ni',\n",
       "  'sentimen': 'Negatif'},\n",
       " {'pengguna': 'ellierustikaaaa',\n",
       "  'tanggal_tweet': datetime.datetime(2020, 11, 30, 14, 49, 22),\n",
       "  'isi_tweet': 'Beban keluarga ❌\\nBeban dianggota geng ✅\\nIsinya anak pinter semuanya anjay, insecure lah otak gua',\n",
       "  'sentimen': 'Negatif'},\n",
       " {'pengguna': 'EunjiJjang95',\n",
       "  'tanggal_tweet': datetime.datetime(2020, 11, 30, 14, 48, 48),\n",
       "  'isi_tweet': 'Fanchant nya shopi 12.12 anjay bengek w  wkwkwkwkwkwkak https://t.co/AeJrKeYYDs',\n",
       "  'sentimen': 'Negatif'},\n",
       " {'pengguna': 'migulazines',\n",
       "  'tanggal_tweet': datetime.datetime(2020, 11, 30, 14, 45, 40),\n",
       "  'isi_tweet': '@naegazas Anjay bisa-bisanya hafal sama tangannya',\n",
       "  'sentimen': 'Negatif'},\n",
       " {'pengguna': 'picuttung',\n",
       "  'tanggal_tweet': datetime.datetime(2020, 11, 30, 14, 44, 51),\n",
       "  'isi_tweet': '@anjay_ani_ @squidwardfess masnya kalo ngomong filter dulu ihhhh takut nyakitin😕',\n",
       "  'sentimen': 'Negatif'},\n",
       " {'pengguna': 'anjay_ani_',\n",
       "  'tanggal_tweet': datetime.datetime(2020, 11, 30, 14, 43, 30),\n",
       "  'isi_tweet': 'masih nagih https://t.co/3b9hupRpKJ',\n",
       "  'sentimen': 'Negatif'},\n",
       " {'pengguna': 'cryriel',\n",
       "  'tanggal_tweet': datetime.datetime(2020, 11, 30, 14, 41, 20),\n",
       "  'isi_tweet': '@anjay_ani_ @squidwardfess serius nanya,emg menurut mu yg tidak jamet dan norak itu sperti apa?',\n",
       "  'sentimen': 'Negatif'},\n",
       " {'pengguna': 'gilaglee',\n",
       "  'tanggal_tweet': datetime.datetime(2020, 11, 30, 14, 40, 55),\n",
       "  'isi_tweet': 'jangan buat gue naik darah ye jamile anjay jamile',\n",
       "  'sentimen': 'Negatif'},\n",
       " {'pengguna': 'khai0904',\n",
       "  'tanggal_tweet': datetime.datetime(2020, 11, 30, 14, 37, 45),\n",
       "  'isi_tweet': 'Ingat game gini aku boleh la stop stop. Ni daripada pagi aku main anjay. Dah dah. Stop dulu jeq. Study pulak.',\n",
       "  'sentimen': 'Negatif'},\n",
       " {'pengguna': 'kkulnojaem',\n",
       "  'tanggal_tweet': datetime.datetime(2020, 11, 30, 14, 37, 18),\n",
       "  'isi_tweet': 'Hyerin sama Kijoon.\\n\\nOH INI SIH. Legend. Anjay. WKWKWKWKWKWK.\\n\\nSL-nya pernah mau menikah, tapi gagal karena salah s… https://t.co/0GN14phmbE',\n",
       "  'sentimen': 'Negatif'},\n",
       " {'pengguna': 'notshuaa',\n",
       "  'tanggal_tweet': datetime.datetime(2020, 11, 30, 14, 36, 57),\n",
       "  'isi_tweet': 'tetep berpegang teguh supaya ga oleng!!!! tp ttp oleng anjay🙏',\n",
       "  'sentimen': 'Negatif'},\n",
       " {'pengguna': 'smolvous',\n",
       "  'tanggal_tweet': datetime.datetime(2020, 11, 30, 14, 36, 3),\n",
       "  'isi_tweet': '@_dprpop WEI SEMANGATTTTTT nilai jelek bisa diperbaiki anjay... gue lg sekolah dong jam segini 😬',\n",
       "  'sentimen': 'Negatif'},\n",
       " {'pengguna': 'vodkadxr',\n",
       "  'tanggal_tweet': datetime.datetime(2020, 11, 30, 14, 35, 17),\n",
       "  'isi_tweet': '@Yaelahbe Kalo belum ada yang patah tuh belum kapok anjay wkwk',\n",
       "  'sentimen': 'Negatif'},\n",
       " {'pengguna': 'anjay_ani_',\n",
       "  'tanggal_tweet': datetime.datetime(2020, 11, 30, 14, 33, 49),\n",
       "  'isi_tweet': '@tanyainrl belajar,seenggaknya udah baca 10 menit',\n",
       "  'sentimen': 'Negatif'},\n",
       " {'pengguna': 'moonieeess',\n",
       "  'tanggal_tweet': datetime.datetime(2020, 11, 30, 14, 32, 13),\n",
       "  'isi_tweet': 'Pegel banget anjay gurinjay',\n",
       "  'sentimen': 'Negatif'},\n",
       " {'pengguna': 'LEETYC00',\n",
       "  'tanggal_tweet': datetime.datetime(2020, 11, 30, 14, 27),\n",
       "  'isi_tweet': '@tanyainrl Anjay masuk penjara, antek² 23 bujank, orang pinggiran, bless me achoo',\n",
       "  'sentimen': 'Negatif'},\n",
       " {'pengguna': 'legend_reno',\n",
       "  'tanggal_tweet': datetime.datetime(2020, 11, 30, 14, 26, 41),\n",
       "  'isi_tweet': 'Anjay salah..  Malah nge follow akun fangirl bukan roleplay 🙊👎',\n",
       "  'sentimen': 'Negatif'}]"
      ]
     },
     "execution_count": 21,
     "metadata": {},
     "output_type": "execute_result"
    }
   ],
   "source": [
    "tweet_negatif"
   ]
  },
  {
   "cell_type": "code",
   "execution_count": 22,
   "metadata": {},
   "outputs": [
    {
     "data": {
      "text/plain": [
       "[{'pengguna': 'madh182',\n",
       "  'tanggal_tweet': datetime.datetime(2020, 11, 30, 14, 49, 47),\n",
       "  'isi_tweet': '@demise182 Terlalu banget ngefans nya, ampe gw diseret2 anjay haha',\n",
       "  'sentimen': 'Positif'},\n",
       " {'pengguna': 'istrinyaakaashi',\n",
       "  'tanggal_tweet': datetime.datetime(2020, 11, 30, 14, 49, 37),\n",
       "  'isi_tweet': '@karageeyamaa semoga nilai pas gw bagus, korona ilang, badan ideal anjay, aamiin',\n",
       "  'sentimen': 'Positif'},\n",
       " {'pengguna': 'R42JAEMlN',\n",
       "  'tanggal_tweet': datetime.datetime(2020, 11, 30, 14, 47, 31),\n",
       "  'isi_tweet': 'kece bgt anjay💆🏻\\u200d♂🧘🏻\\u200d♂ https://t.co/n9gx4rasGR',\n",
       "  'sentimen': 'Positif'},\n",
       " {'pengguna': 'araaanii',\n",
       "  'tanggal_tweet': datetime.datetime(2020, 11, 30, 14, 46, 36),\n",
       "  'isi_tweet': '@sgulrty anjay,cocok nih gue jadi presenternya',\n",
       "  'sentimen': 'Positif'},\n",
       " {'pengguna': 'alvaro_frz',\n",
       "  'tanggal_tweet': datetime.datetime(2020, 11, 30, 14, 45, 44),\n",
       "  'isi_tweet': '@seungmgn Yg panjang lebih cantik drpd yeji anjay..  Meresahkan',\n",
       "  'sentimen': 'Positif'},\n",
       " {'pengguna': 'PRAKARSANYA',\n",
       "  'tanggal_tweet': datetime.datetime(2020, 11, 30, 14, 44, 22),\n",
       "  'isi_tweet': '@rosengcld ㅤ\\n\\nYha bucin, ya. 😇🙏🏻  Anjay, wkwkwk bau-baunya juru kampanye banget. Mantep, lah.\\n\\nㅤㅤ',\n",
       "  'sentimen': 'Positif'},\n",
       " {'pengguna': 'madh182',\n",
       "  'tanggal_tweet': datetime.datetime(2020, 11, 30, 14, 43, 41),\n",
       "  'isi_tweet': '@demise182 Ngefans bertaun2 baru dapet nomer nya, anjay, semua film nya lu hatam udah cok? 😂 @demise182',\n",
       "  'sentimen': 'Positif'},\n",
       " {'pengguna': 'RATJJK',\n",
       "  'tanggal_tweet': datetime.datetime(2020, 11, 30, 14, 41, 21),\n",
       "  'isi_tweet': '@boomvante @BTS_twt Anjay mata nya cakep',\n",
       "  'sentimen': 'Positif'},\n",
       " {'pengguna': 'rafahahsan_',\n",
       "  'tanggal_tweet': datetime.datetime(2020, 11, 30, 14, 40, 53),\n",
       "  'isi_tweet': 'Anjay akun Twitter gua banyak juga yaa -_-. Gegara hp sering bgt rusak pas dulu. Mau masuk akun yg itu lupa password. Hmm',\n",
       "  'sentimen': 'Positif'},\n",
       " {'pengguna': 'clrsyaaavv',\n",
       "  'tanggal_tweet': datetime.datetime(2020, 11, 30, 14, 40, 49),\n",
       "  'isi_tweet': 'pilih cowo kaya or cowo ganteng? gausa munapik gue tau pasti milih yang ganteng kan? udeh jujur aja kalo butuh uang… https://t.co/jZHF0RrDAZ',\n",
       "  'sentimen': 'Positif'},\n",
       " {'pengguna': 'romeosaveback',\n",
       "  'tanggal_tweet': datetime.datetime(2020, 11, 30, 14, 39, 14),\n",
       "  'isi_tweet': '@tanyainrl benerin rambut di depan kaca sambil bilang \"anjay gw ganteng banget\"',\n",
       "  'sentimen': 'Positif'},\n",
       " {'pengguna': 'GalihSeptana',\n",
       "  'tanggal_tweet': datetime.datetime(2020, 11, 30, 14, 38, 50),\n",
       "  'isi_tweet': 'RT @UJunami: anjay, tutorial gratis cara bikin FOTO STUDIO yang simple dan cepat https://t.co/3GtGaXNUiY',\n",
       "  'sentimen': 'Positif'},\n",
       " {'pengguna': 'komancdo',\n",
       "  'tanggal_tweet': datetime.datetime(2020, 11, 30, 14, 37, 48),\n",
       "  'isi_tweet': '@shotdgun Anjay mantap, raja billboard emg beda',\n",
       "  'sentimen': 'Positif'},\n",
       " {'pengguna': 'rahmandityo',\n",
       "  'tanggal_tweet': datetime.datetime(2020, 11, 30, 14, 37, 26),\n",
       "  'isi_tweet': 'anjay hari ini kerja hectic bgt, gapapa yg penting bisa kirim ortu duit',\n",
       "  'sentimen': 'Positif'},\n",
       " {'pengguna': 'BadrulBertweet',\n",
       "  'tanggal_tweet': datetime.datetime(2020, 11, 30, 14, 34, 44),\n",
       "  'isi_tweet': '\"Budak aku\" hahaha nak kena sauk dagu ke anjay https://t.co/3ALlenZpGj',\n",
       "  'sentimen': 'Positif'},\n",
       " {'pengguna': 'meninggoyhiks',\n",
       "  'tanggal_tweet': datetime.datetime(2020, 11, 30, 14, 34, 39),\n",
       "  'isi_tweet': '@anjay_ani_ nyaman tuh yang pertama dong. mereka merasa nyaman dan pd ya enggak apa enggak ada masalah untuk mereka pakai. aneh pikiran lo.',\n",
       "  'sentimen': 'Positif'},\n",
       " {'pengguna': 'Arelfurrel',\n",
       "  'tanggal_tweet': datetime.datetime(2020, 11, 30, 14, 32, 50),\n",
       "  'isi_tweet': '@_yinyon @afiqhear tulah, masa tu kau admit hospital kan yin.. aku pon td nasib baik x teruk sgt,. anjay punya anjing.',\n",
       "  'sentimen': 'Positif'},\n",
       " {'pengguna': 'mdnuwa',\n",
       "  'tanggal_tweet': datetime.datetime(2020, 11, 30, 14, 32, 22),\n",
       "  'isi_tweet': 'Baru buat berapa Puluh keping aku dah tersimpul urat belikat, lepasni nak layan ratus2 order macam mana anjay.\\n.\\nGampang',\n",
       "  'sentimen': 'Positif'},\n",
       " {'pengguna': 'Jun12302475171',\n",
       "  'tanggal_tweet': datetime.datetime(2020, 11, 30, 14, 32, 17),\n",
       "  'isi_tweet': 'Ngestalk wae tp GK follow ...GK boleh bilang kt  anjay ..langsung aja anj××× depan muka kau',\n",
       "  'sentimen': 'Positif'},\n",
       " {'pengguna': 'anjay_ani_',\n",
       "  'tanggal_tweet': datetime.datetime(2020, 11, 30, 14, 31, 26),\n",
       "  'isi_tweet': '@meninggoyhiks iya,tapi sama aja tujuannya pengen diliatin,pegen dibilang wah keren,dsb. nyaman gak nyaman urusan nanti. terserah dah',\n",
       "  'sentimen': 'Positif'},\n",
       " {'pengguna': 'rosengcld',\n",
       "  'tanggal_tweet': datetime.datetime(2020, 11, 30, 14, 29, 52),\n",
       "  'isi_tweet': '@calvinxxt Soalnya yang forever tuh wakanda only dan cintaku padanya. Anjay.',\n",
       "  'sentimen': 'Positif'},\n",
       " {'pengguna': 'hartajun',\n",
       "  'tanggal_tweet': datetime.datetime(2020, 11, 30, 14, 28, 20),\n",
       "  'isi_tweet': 'Haha WELCOME TO NEW BRI okey gw maybe bakal buka lembaran baru (anjay) bcs di akun onoh gw mutual ma sepupu gw, klo… https://t.co/lINevYnRFJ',\n",
       "  'sentimen': 'Positif'},\n",
       " {'pengguna': 'gabisaamain',\n",
       "  'tanggal_tweet': datetime.datetime(2020, 11, 30, 14, 27, 41),\n",
       "  'isi_tweet': 'kan kalo m banking ada tanggalnya anjay https://t.co/MyphDUTXe4',\n",
       "  'sentimen': 'Positif'}]"
      ]
     },
     "execution_count": 22,
     "metadata": {},
     "output_type": "execute_result"
    }
   ],
   "source": [
    "tweet_positif"
   ]
  },
  {
   "cell_type": "code",
   "execution_count": null,
   "metadata": {},
   "outputs": [],
   "source": []
  }
 ],
 "metadata": {
  "kernelspec": {
   "display_name": "Python 3",
   "language": "python",
   "name": "python3"
  },
  "language_info": {
   "codemirror_mode": {
    "name": "ipython",
    "version": 3
   },
   "file_extension": ".py",
   "mimetype": "text/x-python",
   "name": "python",
   "nbconvert_exporter": "python",
   "pygments_lexer": "ipython3",
   "version": "3.8.5"
  }
 },
 "nbformat": 4,
 "nbformat_minor": 4
}
